{
 "cells": [
  {
   "cell_type": "code",
   "execution_count": null,
   "metadata": {},
   "outputs": [],
   "source": [
    "import os\n",
    "from sendgrid import SendGridAPIClient\n",
    "from sendgrid.helpers.mail import (Mail, Attachment, FileContent, FileName, FileType, Disposition)\n",
    "\n",
    "message = Mail(\n",
    "    from_email='FROM_EMAIL',\n",
    "    to_emails='TO_EMAIL',\n",
    "    subject='Scraped Lenta Headlines',\n",
    "    html_content='<strong>see attached</strong>')\n",
    "\n",
    "with open('df_lenta.csv', 'rb') as f:\n",
    "    data = f.read()\n",
    "    f.close()\n",
    "    \n",
    "encoded_file = base64.b64encode(data).decode()\n",
    "\n",
    "attachedFile = Attachment(\n",
    "    FileContent(encoded_file),\n",
    "    FileName('df_lenta.csv'),\n",
    "    FileType('text/csv'),\n",
    "    Disposition('attachment')\n",
    ")\n",
    "message.attachment = attachedFile\n",
    "\n",
    "try:\n",
    "    sg = SendGridAPIClient(os.environ.get('SENDGRID_API_KEY'))\n",
    "    response = sg.send(message)\n",
    "    print(response.status_code)\n",
    "    print(response.body)\n",
    "    print(response.headers)\n",
    "except Exception as e:\n",
    "    print(e.message)"
   ]
  }
 ],
 "metadata": {
  "kernelspec": {
   "display_name": "Python 3",
   "language": "python",
   "name": "python3"
  },
  "language_info": {
   "codemirror_mode": {
    "name": "ipython",
    "version": 3
   },
   "file_extension": ".py",
   "mimetype": "text/x-python",
   "name": "python",
   "nbconvert_exporter": "python",
   "pygments_lexer": "ipython3",
   "version": "3.8.3"
  }
 },
 "nbformat": 4,
 "nbformat_minor": 4
}
